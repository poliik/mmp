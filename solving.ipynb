{
 "cells": [
  {
   "cell_type": "markdown",
   "metadata": {},
   "source": [
    "# Задача конкурса\n",
    "Цель конкурса - предсказать количество мутности - уровень следов продукта или взвешенных твердых частиц в сточных водах - которые будут возвращаться на последнем этапе промывки во время очистки промышленного оборудования для производства продуктов питания и напитков. В зависимости от ожидаемого уровня мутности оператор станции очистки может соответствующим образом отрегулировать длительность финальной промывки, обеспечивая высокие стандарты очистки и минимизируя ненужное использование воды и химикатов.\n",
    "\n",
    "Нам были предоставлены:\n",
    "1. Обучающая выборка - данные о процессах очистки: 35 признаков, включая метаданные о процессе, фазе и объекте, а также данные временных рядов, которые получают через каждые 2 секунды. Измерения временных рядов относятся к мониторингу и контролю различных переменных процесса очистки в линиях подачи и возврата Clean-In-Place, а также в баках для чистящих материалов во время операций очистки. \n",
    "    Процесс очистки прохоит в несколько из фаз: \n",
    "    * этап предварительной промывки\n",
    "    * фаза каустика\n",
    "    * промежуточная фаза промывки\n",
    "    * кислотная фаза\n",
    "    * фаза финальной промывки\n",
    "2. Целевой вектор - каждый процесс process_id в данных обучающих значений имеет соответствующую целевую переменную final_rinse_total_turbidity_liter в этом файле. final_rinse_total_turbidity_liter определяется как общее количество помутнения, возвращаемого в течение целевого периода времени, умноженного на выходящий поток во время финальной промывки, для каждого процесса очистки.(sum(max(0, return_flow) * return_turbidity) where target_time_period=True)\n",
    "3. Контрольная выборка - временные ряды о процессах очистки без финала окончательной промыки.\n",
    "4. Рецепт очистки - задается перед началом процесса очистки и определяет, через какие фазы будет проходить объект (1 - должен проходить, 0 - нет).\n",
    " \n",
    "Необходимо для каждого процесса из контрольной выборки вычислить значение final_rinse_total_turbidity_liter. Также было отмечено, что в контрольной выборке могут отсутствовать некоторые фазы, но это не является отклонением от рецепта.\n",
    "\n",
    "В отчете содержатся описания всех сделанных экспериментов, финальный метод и его аргументация."
   ]
  },
  {
   "cell_type": "code",
   "execution_count": 25,
   "metadata": {},
   "outputs": [],
   "source": [
    "import statistics\n",
    "import pandas as pd\n",
    "import warnings\n",
    "warnings.filterwarnings(\"ignore\")"
   ]
  },
  {
   "cell_type": "code",
   "execution_count": 2,
   "metadata": {},
   "outputs": [],
   "source": [
    "import numpy as np"
   ]
  },
  {
   "cell_type": "code",
   "execution_count": 3,
   "metadata": {},
   "outputs": [],
   "source": [
    "import matplotlib.pyplot as plt"
   ]
  },
  {
   "cell_type": "code",
   "execution_count": 27,
   "metadata": {},
   "outputs": [],
   "source": [
    "train_values = pd.read_csv('train_values.csv',\n",
    "                           index_col=0,\n",
    "                           parse_dates=['timestamp'])\n",
    "\n",
    "train_labels = pd.read_csv('train_labels.csv',\n",
    "                           index_col=0)"
   ]
  },
  {
   "cell_type": "code",
   "execution_count": 5,
   "metadata": {},
   "outputs": [
    {
     "data": {
      "text/html": [
       "<div>\n",
       "<style scoped>\n",
       "    .dataframe tbody tr th:only-of-type {\n",
       "        vertical-align: middle;\n",
       "    }\n",
       "\n",
       "    .dataframe tbody tr th {\n",
       "        vertical-align: top;\n",
       "    }\n",
       "\n",
       "    .dataframe thead th {\n",
       "        text-align: right;\n",
       "    }\n",
       "</style>\n",
       "<table border=\"1\" class=\"dataframe\">\n",
       "  <thead>\n",
       "    <tr style=\"text-align: right;\">\n",
       "      <th></th>\n",
       "      <th>process_id</th>\n",
       "      <th>object_id</th>\n",
       "      <th>phase</th>\n",
       "      <th>timestamp</th>\n",
       "      <th>pipeline</th>\n",
       "      <th>supply_flow</th>\n",
       "      <th>supply_pressure</th>\n",
       "      <th>return_temperature</th>\n",
       "      <th>return_conductivity</th>\n",
       "      <th>return_turbidity</th>\n",
       "      <th>...</th>\n",
       "      <th>tank_temperature_pre_rinse</th>\n",
       "      <th>tank_temperature_caustic</th>\n",
       "      <th>tank_temperature_acid</th>\n",
       "      <th>tank_concentration_caustic</th>\n",
       "      <th>tank_concentration_acid</th>\n",
       "      <th>tank_lsh_caustic</th>\n",
       "      <th>tank_lsh_acid</th>\n",
       "      <th>tank_lsh_clean_water</th>\n",
       "      <th>tank_lsh_pre_rinse</th>\n",
       "      <th>target_time_period</th>\n",
       "    </tr>\n",
       "    <tr>\n",
       "      <th>row_id</th>\n",
       "      <th></th>\n",
       "      <th></th>\n",
       "      <th></th>\n",
       "      <th></th>\n",
       "      <th></th>\n",
       "      <th></th>\n",
       "      <th></th>\n",
       "      <th></th>\n",
       "      <th></th>\n",
       "      <th></th>\n",
       "      <th></th>\n",
       "      <th></th>\n",
       "      <th></th>\n",
       "      <th></th>\n",
       "      <th></th>\n",
       "      <th></th>\n",
       "      <th></th>\n",
       "      <th></th>\n",
       "      <th></th>\n",
       "      <th></th>\n",
       "      <th></th>\n",
       "    </tr>\n",
       "  </thead>\n",
       "  <tbody>\n",
       "    <tr>\n",
       "      <th>0</th>\n",
       "      <td>20001</td>\n",
       "      <td>405</td>\n",
       "      <td>pre_rinse</td>\n",
       "      <td>2018-04-15 04:20:47</td>\n",
       "      <td>L4</td>\n",
       "      <td>8550.348</td>\n",
       "      <td>0.615451</td>\n",
       "      <td>18.044704</td>\n",
       "      <td>4.990765</td>\n",
       "      <td>0.177228</td>\n",
       "      <td>...</td>\n",
       "      <td>32.385708</td>\n",
       "      <td>83.036750</td>\n",
       "      <td>73.03241</td>\n",
       "      <td>45.394646</td>\n",
       "      <td>44.340126</td>\n",
       "      <td>False</td>\n",
       "      <td>0.0</td>\n",
       "      <td>False</td>\n",
       "      <td>0.0</td>\n",
       "      <td>False</td>\n",
       "    </tr>\n",
       "    <tr>\n",
       "      <th>1</th>\n",
       "      <td>20001</td>\n",
       "      <td>405</td>\n",
       "      <td>pre_rinse</td>\n",
       "      <td>2018-04-15 04:20:49</td>\n",
       "      <td>L4</td>\n",
       "      <td>11364.294</td>\n",
       "      <td>0.654297</td>\n",
       "      <td>18.229168</td>\n",
       "      <td>3.749680</td>\n",
       "      <td>0.122975</td>\n",
       "      <td>...</td>\n",
       "      <td>32.385708</td>\n",
       "      <td>83.015045</td>\n",
       "      <td>73.03241</td>\n",
       "      <td>45.394447</td>\n",
       "      <td>44.339380</td>\n",
       "      <td>False</td>\n",
       "      <td>0.0</td>\n",
       "      <td>False</td>\n",
       "      <td>0.0</td>\n",
       "      <td>False</td>\n",
       "    </tr>\n",
       "    <tr>\n",
       "      <th>2</th>\n",
       "      <td>20001</td>\n",
       "      <td>405</td>\n",
       "      <td>pre_rinse</td>\n",
       "      <td>2018-04-15 04:20:51</td>\n",
       "      <td>L4</td>\n",
       "      <td>12174.479</td>\n",
       "      <td>0.699870</td>\n",
       "      <td>18.395544</td>\n",
       "      <td>2.783954</td>\n",
       "      <td>0.387008</td>\n",
       "      <td>...</td>\n",
       "      <td>32.385708</td>\n",
       "      <td>83.015045</td>\n",
       "      <td>73.03241</td>\n",
       "      <td>45.396280</td>\n",
       "      <td>44.336735</td>\n",
       "      <td>False</td>\n",
       "      <td>0.0</td>\n",
       "      <td>False</td>\n",
       "      <td>0.0</td>\n",
       "      <td>False</td>\n",
       "    </tr>\n",
       "    <tr>\n",
       "      <th>3</th>\n",
       "      <td>20001</td>\n",
       "      <td>405</td>\n",
       "      <td>pre_rinse</td>\n",
       "      <td>2018-04-15 04:20:53</td>\n",
       "      <td>L4</td>\n",
       "      <td>13436.776</td>\n",
       "      <td>0.761502</td>\n",
       "      <td>18.583622</td>\n",
       "      <td>1.769353</td>\n",
       "      <td>0.213397</td>\n",
       "      <td>...</td>\n",
       "      <td>32.385708</td>\n",
       "      <td>83.036750</td>\n",
       "      <td>73.03241</td>\n",
       "      <td>45.401875</td>\n",
       "      <td>44.333110</td>\n",
       "      <td>False</td>\n",
       "      <td>0.0</td>\n",
       "      <td>False</td>\n",
       "      <td>0.0</td>\n",
       "      <td>False</td>\n",
       "    </tr>\n",
       "    <tr>\n",
       "      <th>4</th>\n",
       "      <td>20001</td>\n",
       "      <td>405</td>\n",
       "      <td>pre_rinse</td>\n",
       "      <td>2018-04-15 04:20:55</td>\n",
       "      <td>L4</td>\n",
       "      <td>13776.766</td>\n",
       "      <td>0.837240</td>\n",
       "      <td>18.627026</td>\n",
       "      <td>0.904020</td>\n",
       "      <td>0.148293</td>\n",
       "      <td>...</td>\n",
       "      <td>32.385708</td>\n",
       "      <td>83.015045</td>\n",
       "      <td>73.03241</td>\n",
       "      <td>45.398197</td>\n",
       "      <td>44.334373</td>\n",
       "      <td>False</td>\n",
       "      <td>0.0</td>\n",
       "      <td>False</td>\n",
       "      <td>0.0</td>\n",
       "      <td>False</td>\n",
       "    </tr>\n",
       "  </tbody>\n",
       "</table>\n",
       "<p>5 rows × 35 columns</p>\n",
       "</div>"
      ],
      "text/plain": [
       "        process_id  object_id      phase           timestamp pipeline  \\\n",
       "row_id                                                                  \n",
       "0            20001        405  pre_rinse 2018-04-15 04:20:47       L4   \n",
       "1            20001        405  pre_rinse 2018-04-15 04:20:49       L4   \n",
       "2            20001        405  pre_rinse 2018-04-15 04:20:51       L4   \n",
       "3            20001        405  pre_rinse 2018-04-15 04:20:53       L4   \n",
       "4            20001        405  pre_rinse 2018-04-15 04:20:55       L4   \n",
       "\n",
       "        supply_flow  supply_pressure  return_temperature  return_conductivity  \\\n",
       "row_id                                                                          \n",
       "0          8550.348         0.615451           18.044704             4.990765   \n",
       "1         11364.294         0.654297           18.229168             3.749680   \n",
       "2         12174.479         0.699870           18.395544             2.783954   \n",
       "3         13436.776         0.761502           18.583622             1.769353   \n",
       "4         13776.766         0.837240           18.627026             0.904020   \n",
       "\n",
       "        return_turbidity  ...  tank_temperature_pre_rinse  \\\n",
       "row_id                    ...                               \n",
       "0               0.177228  ...                   32.385708   \n",
       "1               0.122975  ...                   32.385708   \n",
       "2               0.387008  ...                   32.385708   \n",
       "3               0.213397  ...                   32.385708   \n",
       "4               0.148293  ...                   32.385708   \n",
       "\n",
       "        tank_temperature_caustic  tank_temperature_acid  \\\n",
       "row_id                                                    \n",
       "0                      83.036750               73.03241   \n",
       "1                      83.015045               73.03241   \n",
       "2                      83.015045               73.03241   \n",
       "3                      83.036750               73.03241   \n",
       "4                      83.015045               73.03241   \n",
       "\n",
       "        tank_concentration_caustic  tank_concentration_acid  tank_lsh_caustic  \\\n",
       "row_id                                                                          \n",
       "0                        45.394646                44.340126             False   \n",
       "1                        45.394447                44.339380             False   \n",
       "2                        45.396280                44.336735             False   \n",
       "3                        45.401875                44.333110             False   \n",
       "4                        45.398197                44.334373             False   \n",
       "\n",
       "        tank_lsh_acid  tank_lsh_clean_water  tank_lsh_pre_rinse  \\\n",
       "row_id                                                            \n",
       "0                 0.0                 False                 0.0   \n",
       "1                 0.0                 False                 0.0   \n",
       "2                 0.0                 False                 0.0   \n",
       "3                 0.0                 False                 0.0   \n",
       "4                 0.0                 False                 0.0   \n",
       "\n",
       "        target_time_period  \n",
       "row_id                      \n",
       "0                    False  \n",
       "1                    False  \n",
       "2                    False  \n",
       "3                    False  \n",
       "4                    False  \n",
       "\n",
       "[5 rows x 35 columns]"
      ]
     },
     "execution_count": 5,
     "metadata": {},
     "output_type": "execute_result"
    }
   ],
   "source": [
    "train_values.head()"
   ]
  },
  {
   "cell_type": "markdown",
   "metadata": {},
   "source": [
    "Чтобы лучше понять, как рассчитывается целевая переменная, надо изучить ее компоненты, return_turbidity и return_flow, за целевой период времени. Целевой период времени, когда мы хотим измерить мутность, обозначен логическим столбцом target_time_period. Это когда мы находимся в последнем полоскании и обратные клапаны едкого и обратного кислот были закрыты в последний раз. Убедимся в этом на примере процесса 20001:"
   ]
  },
  {
   "cell_type": "code",
   "execution_count": 28,
   "metadata": {},
   "outputs": [
    {
     "name": "stdout",
     "output_type": "stream",
     "text": [
      "4318275.12554818\n",
      "final_rinse_total_turbidity_liter    4.318275e+06\n",
      "Name: 20001, dtype: float64\n"
     ]
    }
   ],
   "source": [
    "target = train_values[train_values.process_id == 20001][train_values.target_time_period == True]\n",
    "target = (np.maximum(target.return_flow, 0) * target.return_turbidity).sum()\n",
    "print(target)\n",
    "print(train_labels.loc[20001])"
   ]
  },
  {
   "cell_type": "markdown",
   "metadata": {},
   "source": [
    "# Подход к решению задачи"
   ]
  },
  {
   "cell_type": "markdown",
   "metadata": {},
   "source": [
    "Так как по каждому процессу нам даны временные ряды 35 признаков, а целевая переменная - число, то сразу приходят в голову несколько идей:\n",
    "1. Понять зависимость return_turbidity и return_flow от остальных временных рядов, которые потом спрогнозировать и посчитать скалярное произведение return_turbidity и return_flow\n",
    "2. Уменьшить размерность матрицы признаков для объекта от (n * m) до (1 * k), где  n, m, k - натуральные числа, и, тем самым, свести задачу к регрессии\n",
    "\n",
    "Я остановлюсь на втором варианте. Далее я опишу различные идеи, которые проверяла, но не все из них были использованы в финальном решении.\n",
    "\n",
    "Тестовый набор не включает каких-либо наблюдений на заключительном этапе промывки, так как цель состоит в том, чтобы предсказать окончательное помутнение достаточно рано, чтобы оператор станции очистки мог соответствующим образом отрегулировать продолжительность этой фазы. Чтобы гарантировать, что наша модель не зависит от наблюдений на последнем этапе, важно удалить эти наблюдения из наших данных обучения:"
   ]
  },
  {
   "cell_type": "code",
   "execution_count": 29,
   "metadata": {},
   "outputs": [
    {
     "data": {
      "text/plain": [
       "[<matplotlib.lines.Line2D at 0x7fdf5319e978>]"
      ]
     },
     "execution_count": 29,
     "metadata": {},
     "output_type": "execute_result"
    },
    {
     "data": {
      "image/png": "[encoded data removed]",
      "text/plain": [
       "<Figure size 720x360 with 1 Axes>"
      ]
     },
     "metadata": {
      "needs_background": "light"
     },
     "output_type": "display_data"
    }
   ],
   "source": [
    "proc_1 = list(train_values[train_values.process_id == 20001][(train_values.target_time_period)]['return_turbidity'])\n",
    "proc_2 = list(train_values[train_values.process_id == 20002][train_values.target_time_period==True]['return_turbidity'])\n",
    "proc_3 = list(train_values[train_values.process_id == 20003][train_values.target_time_period==True]['return_turbidity'])\n",
    "\n",
    "f = plt.figure(figsize = (10, 5))\n",
    "plt.plot(list(range(np.size(proc_1))), proc_1)\n",
    "plt.plot(list(range(np.size(proc_2))), proc_2)\n",
    "plt.plot(list(range(np.size(proc_3))), proc_3)"
   ]
  },
  {
   "cell_type": "code",
   "execution_count": 8,
   "metadata": {},
   "outputs": [],
   "source": [
    "train_values = train_values[train_values.phase != 'final_rinse']"
   ]
  },
  {
   "cell_type": "markdown",
   "metadata": {},
   "source": [
    "Для начала я изучила данные на наличие признаков, которые на всех объектах принимают одно значение, а значит не несут никакой информации:"
   ]
  },
  {
   "cell_type": "code",
   "execution_count": 9,
   "metadata": {},
   "outputs": [
    {
     "data": {
      "text/plain": [
       "0.0    4475493\n",
       "Name: tank_lsh_pre_rinse, dtype: int64"
      ]
     },
     "execution_count": 9,
     "metadata": {},
     "output_type": "execute_result"
    }
   ],
   "source": [
    "train_values.tank_lsh_pre_rinse.value_counts()"
   ]
  },
  {
   "cell_type": "markdown",
   "metadata": {},
   "source": [
    "Они действительно есть, удалим их:"
   ]
  },
  {
   "cell_type": "code",
   "execution_count": 11,
   "metadata": {},
   "outputs": [
    {
     "name": "stdout",
     "output_type": "stream",
     "text": [
      "tank_lsh_acid\n",
      "tank_lsh_pre_rinse\n",
      "target_time_period\n"
     ]
    }
   ],
   "source": [
    "for feature in list(train_values):\n",
    "    if train_values[feature].nunique() == 1:\n",
    "        print(feature)\n",
    "        del train_values[feature]"
   ]
  },
  {
   "cell_type": "code",
   "execution_count": 12,
   "metadata": {},
   "outputs": [
    {
     "data": {
      "text/plain": [
       "(4475493, 32)"
      ]
     },
     "execution_count": 12,
     "metadata": {},
     "output_type": "execute_result"
    }
   ],
   "source": [
    "train_values.shape"
   ]
  },
  {
   "cell_type": "code",
   "execution_count": 13,
   "metadata": {},
   "outputs": [],
   "source": [
    "phases = train_values.phase.unique()"
   ]
  },
  {
   "cell_type": "markdown",
   "metadata": {},
   "source": [
    "Далее удалим из обучающей таблицы процессы, которые не по рецепту (потому что в них может быть ошибка, которая нам не нужна при обучении):"
   ]
  },
  {
   "cell_type": "code",
   "execution_count": 14,
   "metadata": {},
   "outputs": [],
   "source": [
    "recipe = pd.read_csv('recipe_metadata.csv', sep = ',')"
   ]
  },
  {
   "cell_type": "code",
   "execution_count": 15,
   "metadata": {},
   "outputs": [
    {
     "name": "stdout",
     "output_type": "stream",
     "text": [
      "5005\n"
     ]
    }
   ],
   "source": [
    "print(train_values.process_id.nunique())\n",
    "for id_ in train_values.process_id.unique():\n",
    "    k_phases = train_values[train_values.process_id == id_].phase.unique()\n",
    "    for phase in phases:\n",
    "        if int(recipe[recipe.process_id == id_][phase]) != (phase in k_phases):\n",
    "            train_values = train_values[train_values.process_id != id_]\n",
    "            break"
   ]
  },
  {
   "cell_type": "code",
   "execution_count": 16,
   "metadata": {},
   "outputs": [
    {
     "data": {
      "text/plain": [
       "(4356747, 32)"
      ]
     },
     "execution_count": 16,
     "metadata": {},
     "output_type": "execute_result"
    }
   ],
   "source": [
    "train_values.shape"
   ]
  },
  {
   "cell_type": "code",
   "execution_count": 17,
   "metadata": {},
   "outputs": [
    {
     "data": {
      "text/plain": [
       "4738"
      ]
     },
     "execution_count": 17,
     "metadata": {},
     "output_type": "execute_result"
    }
   ],
   "source": [
    "train_values.process_id.nunique()"
   ]
  },
  {
   "cell_type": "markdown",
   "metadata": {},
   "source": [
    "Как видно, ошибка составила 5.3%"
   ]
  },
  {
   "cell_type": "markdown",
   "metadata": {},
   "source": [
    "# Генерация признаков"
   ]
  },
  {
   "cell_type": "markdown",
   "metadata": {},
   "source": [
    "Далее шла отдельная работа с разными видами признаков. Начнем с *числовых*, ниже приведен их список:"
   ]
  },
  {
   "cell_type": "code",
   "execution_count": null,
   "metadata": {},
   "outputs": [],
   "source": [
    "ts_cols = [\n",
    "    'process_id', #\n",
    "    'supply_flow',\n",
    "    'supply_pressure',\n",
    "    'return_temperature',\n",
    "    'return_conductivity',\n",
    "    'tank_level_pre_rinse',\n",
    "    'tank_level_caustic',\n",
    "    'tank_level_acid',\n",
    "    'tank_level_clean_water',\n",
    "    'tank_temperature_pre_rinse',\n",
    "    'tank_temperature_caustic',\n",
    "    'tank_temperature_acid',\n",
    "    'tank_concentration_caustic',\n",
    "    'tank_concentration_acid',\n",
    "]"
   ]
  },
  {
   "cell_type": "markdown",
   "metadata": {},
   "source": [
    "Самый простой вариант - применить к этим столбцам функции 'min', 'max', 'mean', 'std' и среднее значение за последние 5 наблюдений, сгруппированные по процессу"
   ]
  },
  {
   "cell_type": "code",
   "execution_count": null,
   "metadata": {},
   "outputs": [],
   "source": [
    "def prep_time_series_features(df):\n",
    "    ts_df = df[ts_cols].set_index('process_id')\n",
    "    ts_features = ts_df.groupby('process_id').agg(['min', 'max', 'mean', 'std', lambda x: x.tail(5).mean()])\n",
    "    return ts_features"
   ]
  },
  {
   "cell_type": "markdown",
   "metadata": {},
   "source": [
    "Далее я решила применять похожие функции не ко всему временному ряду для каждого признака, а поделить на фазы (+ из-за очень не линейного вида временные рядов была взята медиана и из вида графиков стало понятно, что можно добавить признак - среднее значение за 10 первых измерений):"
   ]
  },
  {
   "cell_type": "code",
   "execution_count": null,
   "metadata": {},
   "outputs": [],
   "source": [
    "def prep_phases(df):\n",
    "    ts_features = pd.DataFrame({'process_id' : df.process_id.unique()})\n",
    "    ts_features = ts_features.set_index('process_id')\n",
    "    df = df.set_index('process_id')\n",
    "\n",
    "    for phase in phases:\n",
    "        phase_min = df[df.phase == phase].groupby('process_id')[ts_cols].agg([(phase + '_min', 'min'),\n",
    "                                                                              (phase + '_max', 'max'),\n",
    "                                                                              (phase + '_std', 'std'),\n",
    "                                                                              (phase + '_median', 'median'),\n",
    "                                                                              (phase + '_tail', lambda x: x.tail(15).mean()), \n",
    "                                                                              (phase + '_head', lambda x: x.head(20).mean())])])\n",
    "        ts_features = pd.concat([ts_features, phase_min], axis=1)\n",
    "    supply_return = df[df.phase == phase].groupby('process_id')['supret'].agg([(phase + '_med', 'median')])\n",
    "    ts_features = pd.concat([ts_features, supply_return], axis=1)\n",
    "    return ts_features"
   ]
  },
  {
   "cell_type": "markdown",
   "metadata": {},
   "source": [
    "Был добавлен новый признак - разность входного и выходного потока (с ним я тоже пробовала разные варианты - для каждого процесса считать среднее значение за все время, с разбиением на фазы, применяя 'min', 'max' и т.д. (как выше)):"
   ]
  },
  {
   "cell_type": "code",
   "execution_count": null,
   "metadata": {},
   "outputs": [],
   "source": [
    "train_values = pd.concat([train_values, (train_values[\"supply_flow\"] -  train_values[\"return_flow\"])], axis=1)"
   ]
  },
  {
   "cell_type": "code",
   "execution_count": null,
   "metadata": {},
   "outputs": [],
   "source": [
    "train_limited.rename(columns={0: 'supret'}, inplace=True)"
   ]
  },
  {
   "cell_type": "markdown",
   "metadata": {},
   "source": [
    "Также я считала отклонение ('f1'), среднее значение ('f2') и среднее количество наблюдений, где приращение было положительно ('f3'):"
   ]
  },
  {
   "cell_type": "code",
   "execution_count": null,
   "metadata": {},
   "outputs": [],
   "source": [
    "def prep_time_series_new(df):\n",
    "    ts_df = df[ts_cols].set_index('process_id')\n",
    "    ts_features = ts_df.groupby('process_id').agg([('f1', lambda x: x.diff().abs().std()), \n",
    "                                                  ('f2', lambda x: x.diff().abs().mean()),\n",
    "                                                  ('f3', lambda clm: sum(x > 0 for x in clm.diff().values) / clm.size)])\n",
    "    return ts_features\n"
   ]
  },
  {
   "cell_type": "markdown",
   "metadata": {},
   "source": [
    "Т.к. иногда целевая переменная зависит от функции столбца сильнее, чем от самого столбца, то я решила попробовать признаки columns_sqr(считает квадраты значений чисел в столбце) и columns_sqrt (корни):"
   ]
  },
  {
   "cell_type": "code",
   "execution_count": null,
   "metadata": {},
   "outputs": [],
   "source": [
    "import math"
   ]
  },
  {
   "cell_type": "code",
   "execution_count": null,
   "metadata": {},
   "outputs": [],
   "source": [
    "def columns_sqr(df):\n",
    "    return df.groupby('process_id').apply(lambda row: row * row)\n",
    "def columns_sqrt(df):\n",
    "    return df.groupby('process_id').agg(math.sqrt)"
   ]
  },
  {
   "cell_type": "markdown",
   "metadata": {},
   "source": [
    "Еще можно было посчитать длину каждой фазы (т.к. измерения проводились каждые 2с, то длина фазы эквивалентна количеству чисел в любом соответствующем столбце, я взяла 'object_id'):"
   ]
  },
  {
   "cell_type": "code",
   "execution_count": null,
   "metadata": {},
   "outputs": [],
   "source": [
    "def prep_time(df):\n",
    "    ts_features = pd.DataFrame({'process_id' : df.index.unique()})\n",
    "    ts_features = ts_features.set_index('process_id')\n",
    "    for phase in process_phases:\n",
    "        time_return = df[df.phase == phase].groupby('process_id')['object_id'].agg([(phase + '_time', lambda x: x.size)])\n",
    "        ts_features = ts_features.join(time_return)\n",
    "    return ts_features"
   ]
  },
  {
   "cell_type": "markdown",
   "metadata": {},
   "source": [
    "Из-за того, что не все процессы проходили через все фазы, при генерации признаков погли возникнуть *пропуски*. Я пробовала заполнять их медианой и интерполировать полиномами разной степени (код ниже). Лучше оказалась медиана."
   ]
  },
  {
   "cell_type": "code",
   "execution_count": null,
   "metadata": {},
   "outputs": [],
   "source": [
    "df.fillna(df.median(), inplace=True)\n",
    "#df = df.interpolate(method='polynomial', order=2)"
   ]
  },
  {
   "cell_type": "markdown",
   "metadata": {},
   "source": [
    "Отдельный интерес представляли столбцы \"object_id\" и \"pipeline\". Их ограниченное количество. Каждый процесс работал только с одним объектом и трубой, но обратное неверно. Можно предположить, что для определенных объектов и труб свои сценарии очистки.\n",
    "\n",
    "Эти признаки *категориальные*."
   ]
  },
  {
   "cell_type": "code",
   "execution_count": 18,
   "metadata": {},
   "outputs": [
    {
     "data": {
      "text/plain": [
       "process_id    4738\n",
       "object_id       90\n",
       "dtype: int64"
      ]
     },
     "execution_count": 18,
     "metadata": {},
     "output_type": "execute_result"
    }
   ],
   "source": [
    "train_values[['process_id', 'object_id']].drop_duplicates().nunique()"
   ]
  },
  {
   "cell_type": "code",
   "execution_count": 19,
   "metadata": {},
   "outputs": [
    {
     "data": {
      "text/plain": [
       "process_id    4738\n",
       "pipeline        11\n",
       "dtype: int64"
      ]
     },
     "execution_count": 19,
     "metadata": {},
     "output_type": "execute_result"
    }
   ],
   "source": [
    "train_values[['process_id', 'pipeline']].drop_duplicates().nunique()"
   ]
  },
  {
   "cell_type": "markdown",
   "metadata": {},
   "source": [
    "Я с ними работала двумя способами: Label Encoding и One-Hot-encoding.\n",
    "\n",
    "С Label Encoding есть небольшая проблема — он присваивает числовые значения, которые не имеют ничего общего с реальностью.\n",
    "One-Hot-encoding, с другой стороны, более безопасен, но может добавить «лишние» столбцы.\n",
    "Объектов слишком много, чтобы использовать one-Hot-encoding, поэтому я сделала столбец их значений, с трубами я попробовала оба варианта:"
   ]
  },
  {
   "cell_type": "code",
   "execution_count": null,
   "metadata": {},
   "outputs": [],
   "source": [
    "def prep_metadata(df):\n",
    "    meta = df[['process_id', 'pipeline']].drop_duplicates().set_index('process_id') \n",
    "    meta = pd.get_dummies(meta)\n",
    "\n",
    "    return meta.join(df[['process_id', 'object_id']].drop_duplicates().set_index(\"process_id\"))"
   ]
  },
  {
   "cell_type": "markdown",
   "metadata": {},
   "source": [
    "Оказалось, что 'pipeline_L12' содержит только нулевые значения, и нужно будет убрать еще какую-то из труб, потому что она будет излишней."
   ]
  },
  {
   "cell_type": "code",
   "execution_count": null,
   "metadata": {},
   "outputs": [],
   "source": [
    "from sklearn import preprocessing"
   ]
  },
  {
   "cell_type": "code",
   "execution_count": null,
   "metadata": {},
   "outputs": [],
   "source": [
    "le = preprocessing.LabelEncoder()\n",
    "le.fit(train['pipeline'])"
   ]
  },
  {
   "cell_type": "code",
   "execution_count": null,
   "metadata": {},
   "outputs": [],
   "source": [
    "def prep_meta(df):\n",
    "    meta = df[['process_id', 'pipeline']].drop_duplicates().set_index('process_id') \n",
    "    meta[\"pipe\"] = le.transform(meta)\n",
    "    del meta['pipeline']\n",
    "    return meta.join(df[['process_id', 'object_id']].drop_duplicates().set_index(\"process_id\"))"
   ]
  },
  {
   "cell_type": "markdown",
   "metadata": {},
   "source": [
    "Обработкой булевских значений я занималась немного, потому что признаков получилось и так много, но все же я попробовала некоторые вещи. "
   ]
  },
  {
   "cell_type": "code",
   "execution_count": null,
   "metadata": {},
   "outputs": [],
   "source": [
    "bool_features = [\n",
    "'process_id',\n",
    "'supply_pump',\n",
    " 'supply_pre_rinse',\n",
    " 'supply_caustic',\n",
    " 'return_caustic',\n",
    " 'supply_acid',\n",
    " 'return_acid',\n",
    " 'supply_clean_water',\n",
    " 'return_recovery_water',\n",
    " 'return_drain',\n",
    " 'object_low_level']"
   ]
  },
  {
   "cell_type": "markdown",
   "metadata": {},
   "source": [
    "Так я считала среднее значение количества открытия/закрытия клапана(можно считать это средней продолжительностью времени, так как данные снимаются каждые 2 секунды):"
   ]
  },
  {
   "cell_type": "code",
   "execution_count": null,
   "metadata": {},
   "outputs": [],
   "source": [
    "bool_df = train_values[bool_phases].set_index('process_id')\n",
    "bool_features = bool_df.groupby('process_id').agg([lambda x: (x.astype(\"int\").sum()) / x.shape[0]])"
   ]
  },
  {
   "cell_type": "code",
   "execution_count": null,
   "metadata": {},
   "outputs": [],
   "source": [
    "for i in train_values.process_id.unique():\n",
    "    if train_values[train_values.process_id == i].tank_lsh_caustic.nunique() != 1:\n",
    "        print(i)\n",
    "        break"
   ]
  },
  {
   "cell_type": "markdown",
   "metadata": {},
   "source": [
    "Интерес представляют парные признаки вида supply x - return x:"
   ]
  },
  {
   "cell_type": "code",
   "execution_count": 23,
   "metadata": {},
   "outputs": [
    {
     "data": {
      "text/plain": [
       "<matplotlib.collections.PathCollection at 0x7fdf50e2aba8>"
      ]
     },
     "execution_count": 23,
     "metadata": {},
     "output_type": "execute_result"
    },
    {
     "data": {
      "image/png": "[encoded data removed]",
      "text/plain": [
       "<Figure size 432x288 with 1 Axes>"
      ]
     },
     "metadata": {
      "needs_background": "light"
     },
     "output_type": "display_data"
    }
   ],
   "source": [
    "plt.scatter(train_values[train_values.process_id == 20003].supply_acid.values,\\\n",
    "            train_values[train_values.process_id == 20003].return_acid.values)"
   ]
  },
  {
   "cell_type": "code",
   "execution_count": 24,
   "metadata": {},
   "outputs": [
    {
     "data": {
      "text/plain": [
       "<matplotlib.collections.PathCollection at 0x7fdf5171c278>"
      ]
     },
     "execution_count": 24,
     "metadata": {},
     "output_type": "execute_result"
    },
    {
     "data": {
      "image/png": "[encoded data removed]",
      "text/plain": [
       "<Figure size 432x288 with 1 Axes>"
      ]
     },
     "metadata": {
      "needs_background": "light"
     },
     "output_type": "display_data"
    }
   ],
   "source": [
    "plt.scatter(train_values.supply_acid.values, train_values.return_acid.values)"
   ]
  },
  {
   "cell_type": "markdown",
   "metadata": {},
   "source": [
    "Отсюда видно, что какие-то значения противоположны: когда supply клапан открыт, return закрыт и наоборот\n",
    "Но есть признаки, где могут быть открыты оба клапана. Можно было бы для каждого признака ввести такие состояния числом (сделать категориальным признаком):"
   ]
  },
  {
   "cell_type": "code",
   "execution_count": 22,
   "metadata": {},
   "outputs": [
    {
     "data": {
      "text/plain": [
       "0    3224200\n",
       "2     720850\n",
       "1     411697\n",
       "dtype: int64"
      ]
     },
     "execution_count": 22,
     "metadata": {},
     "output_type": "execute_result"
    }
   ],
   "source": [
    "(train_values[\"supply_acid\"].astype('int') + train_values[\"return_acid\"].astype('int')).value_counts()"
   ]
  },
  {
   "cell_type": "markdown",
   "metadata": {},
   "source": [
    "Варианты получения матрицы признаков были разные, они комбинировали различные методы, описаные выше, например:"
   ]
  },
  {
   "cell_type": "code",
   "execution_count": null,
   "metadata": {},
   "outputs": [],
   "source": [
    "def creat_mtx_time(df):\n",
    "    train_prep_phases = prep_phases(df)\n",
    "    train_prep_phases.fillna(train_prep_phases.median(), inplace=True)\n",
    "\n",
    "    ts_features = prep_time_series_features(df)\n",
    "    return ts_features.join(train_prep_phases, on='process_id')"
   ]
  },
  {
   "cell_type": "code",
   "execution_count": null,
   "metadata": {},
   "outputs": [],
   "source": [
    "def cool_mtx(df):\n",
    "    x = prep_time_series_new(df)\n",
    "    feature_matrix = pd.merge(columns_sqr(x), columns_sqrt(x), on='process_id')\n",
    "    feature_matrix = pd.concat([feature_matrix, x], axis = 1)\n",
    "\n",
    "    time_series = prep_time_series_features(df)\n",
    "    feature_matrix1 = pd.merge(columns_sqr(time_series), columns_sqrt(time_series), on='process_id')\n",
    "    feature_matrix1 = pd.concat([feature_matrix1, time_series], axis = 1)\n",
    "\n",
    "    feature_matrix = pd.concat([feature_matrix, feature_matrix1], axis = 1)\n",
    "\n",
    "    return feature_matrix"
   ]
  },
  {
   "cell_type": "markdown",
   "metadata": {},
   "source": [
    "В *финальном* решении матрицу признаков (feature_matrix) я получила следующим образом (признаки сформированы по фазам и пропуски заполнены медианой):"
   ]
  },
  {
   "cell_type": "code",
   "execution_count": null,
   "metadata": {},
   "outputs": [],
   "source": [
    "def creat_mtx(df):\n",
    "    prep_phases_mtx = prep_phases(df)\n",
    "    prep_phases_mtx.fillna(prep_phases_mtx.median(), inplace=True)\n",
    "    return prep_phases_mtx "
   ]
  },
  {
   "cell_type": "code",
   "execution_count": null,
   "metadata": {},
   "outputs": [],
   "source": [
    "feature_matrix = creat_mtx(train_values)\n",
    "feature_matrix = feature_matrix.join(prep_meta(train_values))"
   ]
  },
  {
   "cell_type": "markdown",
   "metadata": {},
   "source": [
    "# Отбор признаков"
   ]
  },
  {
   "cell_type": "markdown",
   "metadata": {},
   "source": [
    "С увеличением количества фич часто падает точность предсказания.\n",
    "Чтобы численно оценить степень влияния признаков я использовала коэффициент корреляции Пирсона. Достаточно оставить один из коллинеарных признаков, чтобы помочь алгоритму лучше обобщать и получать более интерпретируемые результаты на выходе."
   ]
  },
  {
   "cell_type": "markdown",
   "metadata": {},
   "source": [
    "Как видно, у нас появились линейно-зависимые признаки:"
   ]
  },
  {
   "cell_type": "code",
   "execution_count": null,
   "metadata": {},
   "outputs": [],
   "source": [
    "f = plt.figure(figsize = (5, 5))\n",
    "plt.scatter(feature_matrix[\"('supply_caustic', '<lambda>')\"], feature_matrix[\"('return_caustic', '<lambda>')\"])"
   ]
  },
  {
   "cell_type": "markdown",
   "metadata": {},
   "source": [
    "<img src=\"images/supret_caustic.png\">"
   ]
  },
  {
   "cell_type": "code",
   "execution_count": null,
   "metadata": {},
   "outputs": [],
   "source": [
    "f = plt.figure(figsize = (10, 10))\n",
    "plt.scatter(feature_matrix[\"('supply_acid', '<lambda>')\"], feature_matrix[\"('return_acid', '<lambda>')\"])"
   ]
  },
  {
   "cell_type": "markdown",
   "metadata": {},
   "source": [
    "<img src=\"images/supret_acid.png\">"
   ]
  },
  {
   "cell_type": "code",
   "execution_count": null,
   "metadata": {},
   "outputs": [],
   "source": [
    "f = plt.figure(figsize = (10, 10))\n",
    "plt.scatter(feature_matrix[\"('supply_flow', '<lambda>')\"], feature_matrix[\"('return_flow', '<lambda>')\"])"
   ]
  },
  {
   "cell_type": "markdown",
   "metadata": {},
   "source": [
    "<img src=\"images/supret_flow.png\">"
   ]
  },
  {
   "cell_type": "markdown",
   "metadata": {},
   "source": [
    "\n",
    "\n",
    "\n",
    "\n",
    "Чтобы оценить, много ли таких признаков, посмотрим на тепловую карту матрицы корреляции"
   ]
  },
  {
   "cell_type": "code",
   "execution_count": null,
   "metadata": {},
   "outputs": [],
   "source": [
    "corr = feature_matrix.corr()"
   ]
  },
  {
   "cell_type": "code",
   "execution_count": null,
   "metadata": {},
   "outputs": [],
   "source": [
    "f, ax = plt.subplots(figsize=(40, 30))\n",
    "hm = sns.heatmap(corr, ax = ax, cmap = \"coolwarm\", vmin = -0.25, annot = False, fmt = '.2f', linewidths=.08)"
   ]
  },
  {
   "cell_type": "markdown",
   "metadata": {},
   "source": [
    "<img src=\"images/corr.png\">"
   ]
  },
  {
   "cell_type": "markdown",
   "metadata": {},
   "source": [
    "Одним из вариантов было убрать признаки, которые сильно коррелируют между собой, я выбрала порог 0.75, (их названия я добавляла в список \"bad_features\", чтобы потом убрать для тестовой матрицы):"
   ]
  },
  {
   "cell_type": "code",
   "execution_count": null,
   "metadata": {},
   "outputs": [],
   "source": [
    "bad_features = []"
   ]
  },
  {
   "cell_type": "code",
   "execution_count": null,
   "metadata": {},
   "outputs": [],
   "source": [
    "corr = feature_matrix.corr()\n",
    "features = list(feature_matrix)\n",
    "for k1 in range(len(features)):\n",
    "    k2 = k1 + 1\n",
    "    while k2 < len(features):\n",
    "        if corr[features[k1]][features[k2]] > 0.75:\n",
    "            bad_features.append(features[k1]) ######\n",
    "            del feature_matrix[features[k1]]\n",
    "            break\n",
    "        k2 += 1"
   ]
  },
  {
   "cell_type": "markdown",
   "metadata": {},
   "source": [
    "Также я смотрела корреляцию с целевой переменной:"
   ]
  },
  {
   "cell_type": "code",
   "execution_count": 2,
   "metadata": {},
   "outputs": [],
   "source": [
    "import pandas as pd"
   ]
  },
  {
   "cell_type": "code",
   "execution_count": 5,
   "metadata": {},
   "outputs": [],
   "source": [
    "labels = pd.read_csv(\"train_labels.csv\")"
   ]
  },
  {
   "cell_type": "code",
   "execution_count": null,
   "metadata": {},
   "outputs": [],
   "source": [
    "target_corr = labels.set_index(\"process_id\").join(feature_matrix, how='right').corr()[\"final_rinse_total_turbidity_liter\"]"
   ]
  },
  {
   "cell_type": "code",
   "execution_count": null,
   "metadata": {},
   "outputs": [],
   "source": [
    "target_corr.sort_values()"
   ]
  },
  {
   "cell_type": "markdown",
   "metadata": {},
   "source": [
    "# Анализ метрики"
   ]
  },
  {
   "cell_type": "markdown",
   "metadata": {},
   "source": [
    "Одной из решающих для меня вещей в этом соревновании стал анализ метрики.\n",
    "\n",
    "Нам предлагался вариант MAPE (mean absolute percentage error):\n",
    "$$MAPE = \\frac{1}{N} \\sum_{i=1}^{N} \\frac{|\\hat{y_i} - y_i|}{max(|y_i|, \\text{290000})}$$\n",
    "\n",
    "Это среднее значение погрешности по всем элементам, сдвинутое на порог, чтобы не получить деления на 0.\n",
    "\n",
    "Видно, что наибольшую погрешность дают маленькие значения (потому что делим на меньшее), поэтому я решила разделить выборку по своему порогу, чтобы обучиться отдельно. Для этого я посмотрела медиану и среднее значение \"final_rinse_total_turbidity_liter\". Т.к. медиана лучше подходит для среднего, то первоначально я взяла порог ближе к ней = 1.000.000."
   ]
  },
  {
   "cell_type": "code",
   "execution_count": 6,
   "metadata": {},
   "outputs": [
    {
     "data": {
      "text/plain": [
       "702483.3519640851"
      ]
     },
     "execution_count": 6,
     "metadata": {},
     "output_type": "execute_result"
    }
   ],
   "source": [
    "labels[\"final_rinse_total_turbidity_liter\"].median()"
   ]
  },
  {
   "cell_type": "code",
   "execution_count": 7,
   "metadata": {},
   "outputs": [
    {
     "data": {
      "text/plain": [
       "2140087.6936863856"
      ]
     },
     "execution_count": 7,
     "metadata": {},
     "output_type": "execute_result"
    }
   ],
   "source": [
    "labels[\"final_rinse_total_turbidity_liter\"].mean()"
   ]
  },
  {
   "cell_type": "markdown",
   "metadata": {},
   "source": [
    "Я отделила часть выборки (в матрице осталось 3034 строки):"
   ]
  },
  {
   "cell_type": "code",
   "execution_count": null,
   "metadata": {},
   "outputs": [],
   "source": [
    "feature_matrix = feature_matrix[feature_matrix.final_rinse_total_turbidity_liter < 1000000]"
   ]
  },
  {
   "cell_type": "code",
   "execution_count": null,
   "metadata": {},
   "outputs": [],
   "source": [
    "target = feature_matrix.join(labels.set_index(\"process_id\"), how='left')['final_rinse_total_turbidity_liter'].values"
   ]
  },
  {
   "cell_type": "markdown",
   "metadata": {},
   "source": [
    "Этот порог и некоторые из признаков я проверяла с помощью разбиения трейна (тогда дальше в регрессор подавались X_train и y_train):"
   ]
  },
  {
   "cell_type": "code",
   "execution_count": null,
   "metadata": {},
   "outputs": [],
   "source": [
    "from sklearn.model_selection import train_test_split"
   ]
  },
  {
   "cell_type": "code",
   "execution_count": null,
   "metadata": {},
   "outputs": [],
   "source": [
    "X_train, X_test, y_train, y_test = train_test_split(feature_matrix, target, \n",
    "        test_size=0.3, stratify=target)"
   ]
  },
  {
   "cell_type": "markdown",
   "metadata": {},
   "source": [
    "Чтобы сравнивать результаты с помощью MAPE я его написала (criterion_):"
   ]
  },
  {
   "cell_type": "code",
   "execution_count": null,
   "metadata": {},
   "outputs": [],
   "source": [
    "threshold = 290000\n",
    "def criterion_(predict, target):\n",
    "    return (np.absolute(predict - target) / np.maximum(np.absolute(predict), np.ones(predict.size).astype(\"int\") * threshold)).sum(axis = 1) /\\\n",
    "            predict.size"
   ]
  },
  {
   "cell_type": "markdown",
   "metadata": {},
   "source": [
    "# Построение модели"
   ]
  },
  {
   "cell_type": "markdown",
   "metadata": {},
   "source": [
    "Я стала решать задачу с помощью случайного леса"
   ]
  },
  {
   "cell_type": "code",
   "execution_count": null,
   "metadata": {},
   "outputs": [],
   "source": [
    "from sklearn.ensemble import RandomForestClassifier"
   ]
  },
  {
   "cell_type": "code",
   "execution_count": null,
   "metadata": {},
   "outputs": [],
   "source": [
    "%%time\n",
    "rf = RandomForestRegressor(n_estimators=1000, random_state=143)\n",
    "rf.fit(feature_matrix, target)"
   ]
  },
  {
   "cell_type": "code",
   "execution_count": null,
   "metadata": {},
   "outputs": [],
   "source": [
    "feat_importances = pd.Series(rf.feature_importances_, index=df.columns)\n",
    "feat_importances.nlargest(10).plot(kind='barh')"
   ]
  },
  {
   "cell_type": "markdown",
   "metadata": {},
   "source": [
    "<img src=\"images/feat_importances.png\">"
   ]
  },
  {
   "cell_type": "markdown",
   "metadata": {},
   "source": [
    "# Оптимизация гиперпараметров модели"
   ]
  },
  {
   "cell_type": "markdown",
   "metadata": {},
   "source": [
    "Я хотела подобрать параметры дерева с помощью GridSearchCV (но не успела)"
   ]
  },
  {
   "cell_type": "code",
   "execution_count": null,
   "metadata": {},
   "outputs": [],
   "source": [
    "from sklearn.model_selection import GridSearchCV"
   ]
  },
  {
   "cell_type": "code",
   "execution_count": null,
   "metadata": {},
   "outputs": [],
   "source": [
    "tree = RandomForestRegressor()"
   ]
  },
  {
   "cell_type": "code",
   "execution_count": null,
   "metadata": {},
   "outputs": [],
   "source": [
    "tree_params = {'n_estimators': [300, 500, 800, 1000],\n",
    "               'max_depth': [15, 20, 25, 30]\n",
    "               'max_features': [\"auto\", \"sqrt\", \"log2\"], \n",
    "               'min_samples_leaf': [5, 10, 15]\n",
    "               'bootstrap': [True, False]}"
   ]
  },
  {
   "cell_type": "code",
   "execution_count": null,
   "metadata": {},
   "outputs": [],
   "source": [
    "tree_grid = GridSearchCV(tree, tree_params, n_jobs=-1, cv=5)"
   ]
  },
  {
   "cell_type": "code",
   "execution_count": null,
   "metadata": {},
   "outputs": [],
   "source": [
    "tree_grid.fit(feature_matrix, labels)"
   ]
  },
  {
   "cell_type": "code",
   "execution_count": null,
   "metadata": {},
   "outputs": [],
   "source": [
    "tree_grid.best_params_"
   ]
  },
  {
   "cell_type": "markdown",
   "metadata": {},
   "source": [
    "# Проверка модели на тестoвой выборке"
   ]
  },
  {
   "cell_type": "markdown",
   "metadata": {},
   "source": [
    "Тестовая выборка создавалась аналогичным образом:"
   ]
  },
  {
   "cell_type": "code",
   "execution_count": null,
   "metadata": {},
   "outputs": [],
   "source": [
    "test = pd.read_csv(\"test_values.csv\")\n",
    "test = pd.concat([test, (test[\"supply_flow\"] -  test[\"return_flow\"])], axis=1)\n",
    "test.rename(columns={0: 'supret'}, inplace=True)"
   ]
  },
  {
   "cell_type": "code",
   "execution_count": null,
   "metadata": {},
   "outputs": [],
   "source": [
    "test_ = prep_metadata(test).join(creat_mtx(test))"
   ]
  },
  {
   "cell_type": "markdown",
   "metadata": {},
   "source": [
    "Если по ходу решения я удаляла какие-то признаки из матрицы фичей, например, из-за высокой корреляции (но в финальном решении я оставила матрицу, как она была получена на этапе генерации признаков), то при предсказании на тесте я удаляла их из соответствующей тестовой матрицы:"
   ]
  },
  {
   "cell_type": "code",
   "execution_count": null,
   "metadata": {},
   "outputs": [],
   "source": [
    "features = list(feature_matrix)\n",
    "for k in list(test_matrix):\n",
    "    if k not in features:\n",
    "        del test_[k]"
   ]
  },
  {
   "cell_type": "markdown",
   "metadata": {},
   "source": [
    "# Получение и сохранение результата"
   ]
  },
  {
   "cell_type": "code",
   "execution_count": null,
   "metadata": {},
   "outputs": [],
   "source": [
    "res = rf.predict(test_)"
   ]
  },
  {
   "cell_type": "code",
   "execution_count": null,
   "metadata": {},
   "outputs": [],
   "source": [
    "pd.DataFrame({'process_id': meta_test.index, 'final_rinse_total_turbidity_liter': res}).to_csv('submit.csv', index=False)"
   ]
  },
  {
   "cell_type": "code",
   "execution_count": null,
   "metadata": {},
   "outputs": [],
   "source": []
  },
  {
   "cell_type": "markdown",
   "metadata": {},
   "source": [
    "Также если бы у меня было еще время, то я бы поработала с  булевскими признаками, нашла бы какие-то еще показательные статистические свойства временных рядов. Еще была идея обучиться не только на значениях с целевой переменной < 1.000.000, но и на больших (потому что с таким ограничнием я обучалась примерно на 60% тренировочных данных), а потом скомбинировать предсказания от двух регрессоров, например, сложить решения с определенными коэффициентами, которые подобрать.\n",
    "\n",
    "Можно было бы попробовать другую модель, например, xgboost. Только для нее нужно было оставить меньше признаков, например, те, которые определит случайный лес. Еще сложность состояла в том, что распределение фаз в тренировочном и тестовом наборе сильно различалось, можно было бы не обучаться на данных с одной фазой, потому что я заполняла пропуски по фазам, или придумать другой вариант заполнения."
   ]
  },
  {
   "cell_type": "code",
   "execution_count": null,
   "metadata": {},
   "outputs": [],
   "source": [
    "test.groupby('process_id').phase.nunique().value_counts().sort_index().plot.bar()"
   ]
  },
  {
   "cell_type": "markdown",
   "metadata": {},
   "source": [
    "<img src=\"images/phases.png\">"
   ]
  },
  {
   "cell_type": "code",
   "execution_count": null,
   "metadata": {},
   "outputs": [],
   "source": [
    "train_values.groupby('process_id').phase.nunique().value_counts().sort_index().plot.bar()"
   ]
  },
  {
   "cell_type": "markdown",
   "metadata": {},
   "source": [
    "<img src=\"images/phases-train.png\">"
   ]
  },
  {
   "cell_type": "markdown",
   "metadata": {},
   "source": [
    "Итоговое место я точно сказать не могу, потому что итоговый сабмит (1 марта) был сделан в команде в надежде войти в топ (об этом писали), до этого мой лучший скор был 0.5217 (место около 80)\n",
    "\n",
    "логин: poliik"
   ]
  },
  {
   "cell_type": "code",
   "execution_count": null,
   "metadata": {},
   "outputs": [],
   "source": []
  }
 ],
 "metadata": {
  "kernelspec": {
   "display_name": "Python 3",
   "language": "python",
   "name": "python3"
  },
  "language_info": {
   "codemirror_mode": {
    "name": "ipython",
    "version": 3
   },
   "file_extension": ".py",
   "mimetype": "text/x-python",
   "name": "python",
   "nbconvert_exporter": "python",
   "pygments_lexer": "ipython3",
   "version": "3.7.0"
  }
 },
 "nbformat": 4,
 "nbformat_minor": 2
}
